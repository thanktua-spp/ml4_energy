{
 "cells": [
  {
   "cell_type": "markdown",
   "id": "14bb0aa3",
   "metadata": {},
   "source": [
    "### Introduction to Python\n",
    "- **Duration:** ND\n",
    "- **Topics:**\n",
    "    - What is Python? History and applications\n",
    "    - Installing Python and Jupyter Notebook\n",
    "    - Python syntax, variables, and data types\n",
    "    - Basic input/output operations\n",
    "    - Simple arithmetic and string operations\n",
    "- **Activities:**\n",
    "    - Hands-on: Write your first Python script\n",
    "    - Practice: Basic calculations and print statements\n"
   ]
  },
  {
   "cell_type": "code",
   "execution_count": 1,
   "id": "b322b86c",
   "metadata": {},
   "outputs": [
    {
     "data": {
      "text/plain": [
       "4"
      ]
     },
     "execution_count": 1,
     "metadata": {},
     "output_type": "execute_result"
    }
   ],
   "source": [
    "2 + 2"
   ]
  },
  {
   "cell_type": "code",
   "execution_count": null,
   "id": "97a4ae4b",
   "metadata": {},
   "outputs": [],
   "source": []
  },
  {
   "cell_type": "code",
   "execution_count": null,
   "id": "0ad3a178",
   "metadata": {},
   "outputs": [],
   "source": []
  }
 ],
 "metadata": {
  "kernelspec": {
   "display_name": "venv",
   "language": "python",
   "name": "python3"
  },
  "language_info": {
   "codemirror_mode": {
    "name": "ipython",
    "version": 3
   },
   "file_extension": ".py",
   "mimetype": "text/x-python",
   "name": "python",
   "nbconvert_exporter": "python",
   "pygments_lexer": "ipython3",
   "version": "3.10.12"
  }
 },
 "nbformat": 4,
 "nbformat_minor": 5
}
