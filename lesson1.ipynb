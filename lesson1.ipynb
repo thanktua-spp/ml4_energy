{
 "cells": [
  {
   "cell_type": "markdown",
   "id": "14bb0aa3",
   "metadata": {},
   "source": [
    "### Introduction to Python\n",
    "- **Duration:** ND\n",
    "- **Topics:**\n",
    "    - *What is Python? History and applications*\n",
    "    - *Installing Python and Jupyter Notebook*\n",
    "    - Python syntax, variables, and data types\n",
    "    - Basic input/output operations\n",
    "    - Simple arithmetic and string operations\n",
    "- **Activities:**\n",
    "    - Hands-on: Write your first Python script\n",
    "    - Practice: Basic calculations and print statements\n"
   ]
  },
  {
   "cell_type": "code",
   "execution_count": 1,
   "id": "b322b86c",
   "metadata": {},
   "outputs": [
    {
     "data": {
      "text/plain": [
       "4"
      ]
     },
     "execution_count": 1,
     "metadata": {},
     "output_type": "execute_result"
    }
   ],
   "source": [
    "2 + 2"
   ]
  },
  {
   "cell_type": "markdown",
   "id": "f406eab6",
   "metadata": {},
   "source": [
    "**22/05/2025**\n",
    "\n",
    "# Recap\n",
    "\n",
    "### Recap: What is Python? History and Installation\n",
    "\n",
    "- **What is Python?**\n",
    "    - Python is a high-level, interpreted programming language.\n",
    "    - Known for its readability, simplicity, and versatility.\n",
    "    - Widely used in web development, data science, automation, AI, and more.\n",
    "\n",
    "- **History of Python:**\n",
    "    - Created by Guido van Rossum in the late 1980s.\n",
    "    - First released in 1991.\n",
    "    - Named after the British comedy group \"Monty Python.\"\n",
    "    - Emphasizes code readability and developer productivity.\n",
    "\n",
    "- **Ways to Install and Set Up Python & IDEs:**\n",
    "    - **Official Python Installer:**\n",
    "        - Download from [python.org](https://www.python.org/downloads/).\n",
    "        - Available for Windows, macOS, and Linux.\n",
    "    - **Anaconda Distribution:**\n",
    "        - Includes Python, Jupyter Notebook, and many scientific libraries.\n",
    "        - Ideal for data science and machine learning.\n",
    "    - **Using Package Managers:**\n",
    "        - `apt` for Ubuntu: `sudo apt install python3`\n",
    "        - `brew` for macOS: `brew install python`\n",
    "        - `choco` for Windows: `choco install python`\n",
    "    - **Setting Up an IDE:**\n",
    "        - **IDLE:** Comes bundled with Python.\n",
    "        - **VS Code:** Popular, lightweight, with Python extension.\n",
    "        - **Github code spaces:** Web-based even more lightweight VS-Code-Based environment linked to github repository.\n",
    "        - **PyCharm:** Full-featured IDE for professional development.\n",
    "        - **Jupyter Notebook:** Great for interactive coding and data analysis.\n",
    "        - **Google Colab Notebook:** Web-based hardware jupyter notebook enhanced environment linked to google drive. https://colab.google/"
   ]
  },
  {
   "cell_type": "code",
   "execution_count": null,
   "id": "97a4ae4b",
   "metadata": {},
   "outputs": [],
   "source": []
  },
  {
   "cell_type": "markdown",
   "id": "f739578c",
   "metadata": {},
   "source": [
    "### What is a Virtual Environment?\n",
    "\n",
    "A **virtual environment** is an isolated workspace for Python projects. It allows you to manage dependencies for each project separately, preventing conflicts between packages required by different projects. This ensures that your project runs consistently regardless of other Python projects or system-wide packages.\n",
    "\n",
    "### Why Use a Virtual Environment?\n",
    "\n",
    "- **Dependency Management:** Keeps project dependencies isolated.\n",
    "- **Avoid Conflicts:** Prevents version clashes between packages.\n",
    "- **Reproducibility:** Makes it easier to reproduce and share your project setup.\n",
    "\n",
    "---\n",
    "\n",
    "## Steps to Create and Activate a Python Virtual Environment\n",
    "\n",
    "### 1. Linux & macOS\n",
    "\n",
    "**a. Create a virtual environment:**\n",
    "```bash\n",
    "python3 -m venv myenv\n",
    "```\n",
    "\n",
    "**b. Activate the virtual environment:**\n",
    "```bash\n",
    "source myenv/bin/activate\n",
    "```\n",
    "\n",
    "---\n",
    "\n",
    "### 2. Windows\n",
    "\n",
    "**a. Create a virtual environment:**\n",
    "```cmd\n",
    "python -m venv myenv\n",
    "```\n",
    "\n",
    "**b. Activate the virtual environment:**\n",
    "```cmd\n",
    "myenv\\Scripts\\activate\n",
    "```\n",
    "\n",
    "---\n",
    "\n",
    "> **Tip:**  \n",
    "> To deactivate the virtual environment on any OS, simply run:\n",
    "> ```bash\n",
    "> deactivate\n",
    "> ```"
   ]
  },
  {
   "cell_type": "code",
   "execution_count": null,
   "id": "0ad3a178",
   "metadata": {},
   "outputs": [],
   "source": []
  },
  {
   "cell_type": "code",
   "execution_count": 1,
   "id": "8e9c4cce",
   "metadata": {},
   "outputs": [
    {
     "name": "stdout",
     "output_type": "stream",
     "text": [
      "The Zen of Python, by Tim Peters\n",
      "\n",
      "Beautiful is better than ugly.\n",
      "Explicit is better than implicit.\n",
      "Simple is better than complex.\n",
      "Complex is better than complicated.\n",
      "Flat is better than nested.\n",
      "Sparse is better than dense.\n",
      "Readability counts.\n",
      "Special cases aren't special enough to break the rules.\n",
      "Although practicality beats purity.\n",
      "Errors should never pass silently.\n",
      "Unless explicitly silenced.\n",
      "In the face of ambiguity, refuse the temptation to guess.\n",
      "There should be one-- and preferably only one --obvious way to do it.\n",
      "Although that way may not be obvious at first unless you're Dutch.\n",
      "Now is better than never.\n",
      "Although never is often better than *right* now.\n",
      "If the implementation is hard to explain, it's a bad idea.\n",
      "If the implementation is easy to explain, it may be a good idea.\n",
      "Namespaces are one honking great idea -- let's do more of those!\n"
     ]
    }
   ],
   "source": [
    "import this"
   ]
  },
  {
   "cell_type": "code",
   "execution_count": null,
   "id": "96784fac",
   "metadata": {},
   "outputs": [],
   "source": []
  },
  {
   "cell_type": "code",
   "execution_count": null,
   "id": "16e2e0e2",
   "metadata": {},
   "outputs": [],
   "source": []
  },
  {
   "cell_type": "code",
   "execution_count": null,
   "id": "a828bd8a",
   "metadata": {},
   "outputs": [],
   "source": []
  },
  {
   "cell_type": "markdown",
   "id": "d5cdcc94",
   "metadata": {},
   "source": [
    "- **Python Syntax, Variables, and Data Types**\n",
    "    - **Python Syntax**\n",
    "        - Indentation and code blocks\n",
    "        - Statements and expressions\n",
    "        - Comments (`# single-line`, `'''multi-line'''`)\n",
    "        - Case sensitivity\n",
    "        - Line continuation\n",
    "    - **Variables**\n",
    "        - Definition and assignment\n",
    "            - Variable naming rules\n",
    "            - Dynamic typing\n",
    "        - Reassignment and overwriting\n",
    "        - Multiple assignment\n",
    "        - Swapping variables\n",
    "        - Deleting variables (`del`)\n",
    "    - **Data Types**\n",
    "        - **Numbers**\n",
    "            - Integers (`int`)\n",
    "            - Floating-point numbers (`float`)\n",
    "            - Complex numbers (`complex`)\n",
    "        - **Strings (`str`)**\n",
    "            - Creating strings\n",
    "            - String concatenation and repetition\n",
    "            - String indexing and slicing\n",
    "            - String methods (e.g., `.upper()`, `.lower()`, `.replace()`)\n",
    "            - Escape characters\n",
    "        - **Boolean (`bool`)**\n",
    "            - `True` and `False`\n",
    "            - Logical operations (`and`, `or`, `not`)\n",
    "        - **NoneType**\n",
    "            - The `None` object\n",
    "        - **Collections**\n",
    "            - **Lists**\n",
    "                - Creating lists\n",
    "                - Indexing and slicing\n",
    "                - List methods (`append`, `remove`, etc.)\n",
    "                - List comprehensions\n",
    "            - **Tuples**\n",
    "                - Immutable sequences\n",
    "                - Tuple unpacking\n",
    "            - **Dictionaries**\n",
    "                - Key-value pairs\n",
    "                - Accessing, adding, and removing items\n",
    "                - Dictionary methods\n",
    "            - **Sets**\n",
    "                - Unique elements\n",
    "                - Set operations (union, intersection, etc.)\n",
    "        - **Type Conversion**\n",
    "            - Casting between types (`int()`, `float()`, `str()`, etc.)\n",
    "        - **Checking Types**\n",
    "            - Using `type()` and `isinstance()`\n",
    "    - **Best Practices**\n",
    "        - Meaningful variable names\n",
    "        - Consistent formatting (PEP 8)\n",
    "        - Commenting and documentation"
   ]
  },
  {
   "cell_type": "code",
   "execution_count": null,
   "id": "58642aac",
   "metadata": {},
   "outputs": [],
   "source": []
  },
  {
   "cell_type": "code",
   "execution_count": null,
   "id": "da16e0b7",
   "metadata": {},
   "outputs": [],
   "source": []
  },
  {
   "cell_type": "code",
   "execution_count": null,
   "id": "8af75a6a",
   "metadata": {},
   "outputs": [],
   "source": []
  },
  {
   "cell_type": "code",
   "execution_count": null,
   "id": "e86db9c6",
   "metadata": {},
   "outputs": [],
   "source": []
  },
  {
   "cell_type": "code",
   "execution_count": null,
   "id": "04e199d8",
   "metadata": {},
   "outputs": [],
   "source": []
  },
  {
   "cell_type": "code",
   "execution_count": null,
   "id": "8722ad80",
   "metadata": {},
   "outputs": [],
   "source": []
  },
  {
   "cell_type": "code",
   "execution_count": null,
   "id": "efd13f7a",
   "metadata": {},
   "outputs": [],
   "source": []
  },
  {
   "cell_type": "code",
   "execution_count": null,
   "id": "30e5dfee",
   "metadata": {},
   "outputs": [],
   "source": []
  },
  {
   "cell_type": "code",
   "execution_count": null,
   "id": "3dc6fb69",
   "metadata": {},
   "outputs": [],
   "source": []
  },
  {
   "cell_type": "code",
   "execution_count": null,
   "id": "d0df281a",
   "metadata": {},
   "outputs": [],
   "source": []
  },
  {
   "cell_type": "code",
   "execution_count": null,
   "id": "3e1e9cd5",
   "metadata": {},
   "outputs": [],
   "source": []
  },
  {
   "cell_type": "code",
   "execution_count": null,
   "id": "b919bb9a",
   "metadata": {},
   "outputs": [],
   "source": []
  },
  {
   "cell_type": "code",
   "execution_count": null,
   "id": "3dad775f",
   "metadata": {},
   "outputs": [],
   "source": []
  },
  {
   "cell_type": "code",
   "execution_count": null,
   "id": "cbffa553",
   "metadata": {},
   "outputs": [],
   "source": []
  },
  {
   "cell_type": "code",
   "execution_count": null,
   "id": "690ec8f8",
   "metadata": {},
   "outputs": [],
   "source": []
  },
  {
   "cell_type": "code",
   "execution_count": null,
   "id": "2cc3323c",
   "metadata": {},
   "outputs": [],
   "source": []
  },
  {
   "cell_type": "code",
   "execution_count": null,
   "id": "7d3656f7",
   "metadata": {},
   "outputs": [],
   "source": []
  },
  {
   "cell_type": "code",
   "execution_count": null,
   "id": "5e5b32a8",
   "metadata": {},
   "outputs": [],
   "source": []
  },
  {
   "cell_type": "code",
   "execution_count": null,
   "id": "d40fcd57",
   "metadata": {},
   "outputs": [],
   "source": []
  },
  {
   "cell_type": "code",
   "execution_count": null,
   "id": "4b0443f4",
   "metadata": {},
   "outputs": [],
   "source": []
  },
  {
   "cell_type": "code",
   "execution_count": null,
   "id": "e17a0024",
   "metadata": {},
   "outputs": [],
   "source": []
  },
  {
   "cell_type": "code",
   "execution_count": null,
   "id": "e8582749",
   "metadata": {},
   "outputs": [],
   "source": []
  },
  {
   "cell_type": "code",
   "execution_count": null,
   "id": "558a24f4",
   "metadata": {},
   "outputs": [],
   "source": []
  },
  {
   "cell_type": "code",
   "execution_count": null,
   "id": "8c2e5250",
   "metadata": {},
   "outputs": [],
   "source": []
  },
  {
   "cell_type": "code",
   "execution_count": null,
   "id": "f93b0031",
   "metadata": {},
   "outputs": [],
   "source": []
  },
  {
   "cell_type": "code",
   "execution_count": null,
   "id": "c929e76d",
   "metadata": {},
   "outputs": [],
   "source": []
  },
  {
   "cell_type": "code",
   "execution_count": null,
   "id": "959a5be6",
   "metadata": {},
   "outputs": [],
   "source": []
  },
  {
   "cell_type": "code",
   "execution_count": null,
   "id": "b3e4b248",
   "metadata": {},
   "outputs": [],
   "source": []
  },
  {
   "cell_type": "code",
   "execution_count": null,
   "id": "b5b7e24f",
   "metadata": {},
   "outputs": [],
   "source": []
  },
  {
   "cell_type": "code",
   "execution_count": null,
   "id": "93380749",
   "metadata": {},
   "outputs": [],
   "source": []
  },
  {
   "cell_type": "code",
   "execution_count": null,
   "id": "50bfe0c4",
   "metadata": {},
   "outputs": [],
   "source": []
  },
  {
   "cell_type": "markdown",
   "id": "a8c399ba",
   "metadata": {},
   "source": [
    "### Lesson 1: Using Python as a Calculator – Practice Problems\n",
    "\n",
    "1. **Add two numbers:**  \n",
    "    Calculate the sum of 15 and 27.\n",
    "\n",
    "2. **Subtract two numbers:**  \n",
    "    Find the result of 100 minus 45.\n",
    "\n",
    "3. **Multiply two numbers:**  \n",
    "    What is 12 multiplied by 8?\n",
    "\n",
    "4. **Divide two numbers:**  \n",
    "    Divide 144 by 12.\n",
    "\n",
    "5. **Exponentiation:**  \n",
    "    Compute 5 raised to the power of 3.\n",
    "\n",
    "6. **Modulus operation:**  \n",
    "    What is the remainder when 29 is divided by 6?\n",
    "\n",
    "7. **Order of operations:**  \n",
    "    Evaluate the expression: 7 + 3 * 4.\n",
    "\n",
    "8. **Square root:**  \n",
    "    Use Python to find the square root of 81.\n",
    "\n",
    "9. **Calculate the perimeter of a rectangle:**  \n",
    "    The length is 13 and the width is 7. What is the perimeter?\n",
    "\n",
    "10. **Convert Celsius to Fahrenheit:**  \n",
    "     Convert 25°C to Fahrenheit using the formula:  \n",
    "     F = (C × 9/5) + 32"
   ]
  },
  {
   "cell_type": "code",
   "execution_count": null,
   "id": "9a0e61ba",
   "metadata": {},
   "outputs": [],
   "source": []
  },
  {
   "cell_type": "code",
   "execution_count": null,
   "id": "8be78210",
   "metadata": {},
   "outputs": [],
   "source": []
  },
  {
   "cell_type": "code",
   "execution_count": null,
   "id": "1cbe8fea",
   "metadata": {},
   "outputs": [],
   "source": []
  }
 ],
 "metadata": {
  "kernelspec": {
   "display_name": "venv",
   "language": "python",
   "name": "python3"
  },
  "language_info": {
   "codemirror_mode": {
    "name": "ipython",
    "version": 3
   },
   "file_extension": ".py",
   "mimetype": "text/x-python",
   "name": "python",
   "nbconvert_exporter": "python",
   "pygments_lexer": "ipython3",
   "version": "3.10.12"
  }
 },
 "nbformat": 4,
 "nbformat_minor": 5
}
